{
 "cells": [
  {
   "cell_type": "markdown",
   "metadata": {},
   "source": [
    "# Hello, world!\n",
    "\n",
    "Solve the following optimization problem using CVXPY:\n",
    "\n",
    "\\begin{array}{ll} \\mbox{minimize} & |x| - 2\\sqrt{y}\\\\\n",
    "\\mbox{subject to} & 2 \\geq e^x \\\\\n",
    "& x + y = 5,\n",
    "\\end{array}\n",
    "\n",
    "where $x,y \\in \\mathbf{R}$ are variables.\n",
    "\n",
    "Find the optimal values of $x$ and $y$."
   ]
  },
  {
   "cell_type": "code",
   "execution_count": null,
   "metadata": {
    "collapsed": true
   },
   "outputs": [],
   "source": [
    "# TODO: your code here."
   ]
  }
 ],
 "metadata": {
  "kernelspec": {
   "display_name": "Python 3",
   "language": "python",
   "name": "python3"
  },
  "language_info": {
   "codemirror_mode": {
    "name": "ipython",
    "version": 3
   },
   "file_extension": ".py",
   "mimetype": "text/x-python",
   "name": "python",
   "nbconvert_exporter": "python",
   "pygments_lexer": "ipython3",
   "version": "3.7.0"
  }
 },
 "nbformat": 4,
 "nbformat_minor": 1
}
