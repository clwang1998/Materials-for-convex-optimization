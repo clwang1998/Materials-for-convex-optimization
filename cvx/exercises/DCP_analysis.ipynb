{
 "cells": [
  {
   "cell_type": "markdown",
   "metadata": {},
   "source": [
    "# DCP analysis\n",
    "\n",
    "In this exercise, you will fix optimization problems that break the DCP rules by identifying the DCP error and then rewriting the problem."
   ]
  },
  {
   "cell_type": "code",
   "execution_count": null,
   "metadata": {},
   "outputs": [],
   "source": [
    "# Problem 1.\n",
    "import cvxpy as cp\n",
    "\n",
    "x = cp.Variable()\n",
    "cost = (x**2 + 1)**0.5\n",
    "prob = cp.Problem(cp.Minimize(cost))\n",
    "prob.solve()\n",
    "\n",
    "# TODO explain why the problem isn't DCP and rewrite it to satisfy DCP.\n"
   ]
  },
  {
   "cell_type": "code",
   "execution_count": null,
   "metadata": {},
   "outputs": [],
   "source": [
    "# Problem 2.\n",
    "import cvxpy as cp\n",
    "\n",
    "x = cp.Variable()\n",
    "prob = cp.Problem(cp.Minimize(x + 2),\n",
    "                   [5 == 2*cp.inv_pos(x)])\n",
    "prob.solve()\n",
    "\n",
    "# TODO explain why the problem isn't DCP and rewrite it to satisfy DCP.\n"
   ]
  },
  {
   "cell_type": "code",
   "execution_count": null,
   "metadata": {},
   "outputs": [],
   "source": [
    "# Problem 3.\n",
    "import cvxpy as cp\n",
    "\n",
    "x = cp.Variable()\n",
    "prob = cp.Problem(cp.Minimize(x + 2),\n",
    "                   [5 <= 2*x**-2])\n",
    "prob.solve()\n",
    "\n",
    "# TODO explain why the problem isn't DCP and rewrite it to satisfy DCP.\n"
   ]
  },
  {
   "cell_type": "code",
   "execution_count": null,
   "metadata": {},
   "outputs": [],
   "source": [
    "# Problem 4.\n",
    "import cvxpy as cp\n",
    "\n",
    "x = cp.Variable()\n",
    "y = cp.Variable()\n",
    "prob = cp.Problem(cp.Minimize(cp.pos(x)),\n",
    "                   [0 <= cp.quad_over_lin(x,y),\n",
    "                    y >= 1])\n",
    "prob.solve()\n",
    "\n",
    "# TODO explain why the problem isn't DCP and rewrite it to satisfy DCP.\n"
   ]
  },
  {
   "cell_type": "code",
   "execution_count": null,
   "metadata": {},
   "outputs": [],
   "source": [
    "# Problem 5.\n",
    "import cvxpy as cp\n",
    "\n",
    "x = cp.Variable()\n",
    "prob = cp.Problem(cp.Minimize(x + 2),\n",
    "                   [cp.exp(2*x) + cp.exp(3*x) <= cp.exp(5*x)])\n",
    "prob.solve()\n",
    "\n",
    "# TODO explain why the problem isn't DCP and rewrite it to satisfy DCP.\n"
   ]
  },
  {
   "cell_type": "code",
   "execution_count": null,
   "metadata": {},
   "outputs": [],
   "source": [
    "# Bonus problem. Do this for extra credit.\n",
    "import cvxpy as cp\n",
    "import numpy as np\n",
    "\n",
    "x = cp.Variable()\n",
    "prob = cp.Problem(cp.Maximize( -(cp.maximum(x, 4) - 3)**2 ),\n",
    "                   [x >= 1])\n",
    "prob.solve()\n",
    "\n",
    "# TODO explain why the problem isn't DCP and rewrite it to satisfy DCP.\n"
   ]
  },
  {
   "cell_type": "code",
   "execution_count": null,
   "metadata": {},
   "outputs": [],
   "source": [
    "# Bonus problem. Do this for extra credit.\n",
    "# This is a real problem from the CVXPY forum.\n",
    "import cvxpy as cp\n",
    "import numpy as np\n",
    "m = 10\n",
    "np.random.seed(1)\n",
    "c = np.random.randn(m,1)\n",
    "c = np.abs(c) # Important: This is nonnegative.\n",
    "u = np.random.randn(m,1)\n",
    "u = np.abs(u) # Important: This is nonnegative.\n",
    "\n",
    "x = cp.Variable(m)\n",
    "cost = sum([c[i]*x[i]*cp.inv_pos(u[i] - x[i]) for i in range(m)])\n",
    "prob = cp.Problem(cp.Minimize(cost))\n",
    "prob.solve()\n",
    "\n",
    "# TODO explain why the problem isn't DCP and rewrite it to satisfy DCP.\n"
   ]
  }
 ],
 "metadata": {
  "kernelspec": {
   "display_name": "Python 3",
   "language": "python",
   "name": "python3"
  },
  "language_info": {
   "codemirror_mode": {
    "name": "ipython",
    "version": 3
   },
   "file_extension": ".py",
   "mimetype": "text/x-python",
   "name": "python",
   "nbconvert_exporter": "python",
   "pygments_lexer": "ipython3",
   "version": "3.7.0"
  }
 },
 "nbformat": 4,
 "nbformat_minor": 1
}
