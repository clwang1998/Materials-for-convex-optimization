{
 "cells": [
  {
   "cell_type": "markdown",
   "metadata": {},
   "source": [
    "# Simple portfolio optimization\n",
    "We consider a portfolio optimization problem as described on the *Convex Optimization Applications* slides."
   ]
  },
  {
   "cell_type": "markdown",
   "metadata": {},
   "source": [
    "## (a)\n",
    "Find minimum-risk portfolios with the same expected return as the uniform portfolio ($w =\n",
    "(1/n)1$), with risk measured by portfolio return variance, and the following portfolio constraints\n",
    "(in addition to $1^Tw = 1$):\n",
    "\n",
    "* No (additional) constraints.\n",
    "* Long-only: $w \\geq 0$.\n",
    "* Limit on total short position: $1^T(w_-) \\leq 0.5$, where $(w_-)_i = \\max\\{−w_i\n",
    ", 0\\}$.\n",
    "\n",
    "Compare the optimal risk in these portfolios with each other and the uniform portfolio."
   ]
  },
  {
   "cell_type": "code",
   "execution_count": 2,
   "metadata": {},
   "outputs": [],
   "source": [
    "# Construct problem data.\n",
    "import numpy as np\n",
    "\n",
    "np.random.seed(1)\n",
    "n = 20\n",
    "mu = np.ones((n,1))*.03 + np.r_[np.random.rand(n-1,1), np.zeros((1,1))]*.12;\n",
    "mu[-1] = 0\n",
    "S = np.random.randn(n, n);\n",
    "S = S.T*S\n",
    "Sigma = S/max(np.abs(np.diag(S)))*.2\n",
    "Sigma[:, -1] = np.zeros(n)\n",
    "Sigma[-1, :] = np.zeros(n)\n",
    "w_unif = np.ones((n, 1))/n"
   ]
  },
  {
   "cell_type": "code",
   "execution_count": null,
   "metadata": {},
   "outputs": [],
   "source": [
    "import cvxpy as cp\n",
    "w = cp.Variable(n)\n",
    "\n",
    "# Uniform portfolio\n",
    "print('Risk for uniform: %.2f%%' % float(np.sqrt(w_unif.T*Sigma*w_unif)*100))\n",
    "\n",
    "# No additional constraints\n",
    "# TODO: your code here. You define risk.\n",
    "\n",
    "print('Risk for unconstrained: %.2f%%' % float(np.sqrt(risk.value)*100))\n",
    "\n",
    "# Long only\n",
    "# TODO: your code here. You define risk.\n",
    "\n",
    "print('Risk for long only: %.2f%%' % float(np.sqrt(risk.value)*100))\n",
    "\n",
    "# Limit on total short position\n",
    "# TODO: your code here. You define risk.\n",
    "\n",
    "print('Risk for limit on short: %.2f%%' % float(np.sqrt(risk.value)*100))"
   ]
  },
  {
   "cell_type": "markdown",
   "metadata": {},
   "source": [
    "## (b)\n",
    "\n",
    "Plot the optimal risk-return trade-off curves for the long-only portfolio, and for total short position limited to 0.5, in the same figure.\n",
    "\n",
    "Comment on the relationship between the two trade-off curves."
   ]
  },
  {
   "cell_type": "code",
   "execution_count": null,
   "metadata": {},
   "outputs": [],
   "source": [
    "import matplotlib.pyplot as plt\n",
    "%matplotlib inline\n",
    "\n",
    "w = cp.Variable(n)\n",
    "gamma = cp.Parameter(nonneg=True)\n",
    "N = 128\n",
    "\n",
    "# Long only\n",
    "# TODO: your code here: define prob, expec_return, risk\n",
    "\n",
    "gamma_vals = np.logspace(-1,5,num=N)\n",
    "return_vec1 = np.zeros((N,1))\n",
    "risk_vec1 = np.zeros((N,1))\n",
    "for i in range(N):\n",
    "    gamma.value = gamma_vals[i]\n",
    "    # you define prob, expec_return, and risk.\n",
    "    prob.solve()\n",
    "    return_vec1[i] = expec_return.value\n",
    "    risk_vec1[i] = risk.value\n",
    "plt.figure()\n",
    "plt.plot(np.sqrt(risk_vec1)*100, return_vec1*100, label='Long only')\n",
    "\n",
    "# Limit on short\n",
    "# TODO: your code here: define prob, expec_return, risk\n",
    "\n",
    "return_vec2 = np.zeros((N,1))\n",
    "risk_vec2 = np.zeros((N,1))\n",
    "for i in range(N):\n",
    "    gamma.value = gamma_vals[i]\n",
    "    # you define prob, expec_return, and risk.\n",
    "    prob.solve()\n",
    "    return_vec2[i] = expec_return.value\n",
    "    risk_vec2[i] = risk.value\n",
    "    \n",
    "plt.plot(np.sqrt(risk_vec2)*100, return_vec2*100, label='Limit on short')\n",
    "plt.legend()\n",
    "plt.xlabel('Risk in %')\n",
    "plt.ylabel('Return in %')\n",
    "plt.show()"
   ]
  }
 ],
 "metadata": {
  "kernelspec": {
   "display_name": "Python 3",
   "language": "python",
   "name": "python3"
  },
  "language_info": {
   "codemirror_mode": {
    "name": "ipython",
    "version": 3
   },
   "file_extension": ".py",
   "mimetype": "text/x-python",
   "name": "python",
   "nbconvert_exporter": "python",
   "pygments_lexer": "ipython3",
   "version": "3.7.0"
  }
 },
 "nbformat": 4,
 "nbformat_minor": 1
}
