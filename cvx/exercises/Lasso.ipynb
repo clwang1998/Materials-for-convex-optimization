{
 "cells": [
  {
   "cell_type": "markdown",
   "metadata": {},
   "source": [
    "# LASSO\n",
    "\n",
    "We wish to recover a sparse vector $x \\in \\mathbf{R}^n$ from measurements $y \\in \\mathbf{R}^m$. Our measurement model tells us that\n",
    "$$\n",
    "y = Ax + v,\n",
    "$$\n",
    "where $A \\in \\mathbf{R}^{m \\times n}$ is a known matrix and $v \\in \\mathbf{R}^m$ is unknown measurement error. The entries of $v$ are drawn IID from the distribution $\\mathcal{N}(0, \\sigma^2)$.\n",
    "\n",
    "We can first try to recover $x$ by solving the optimization problem\n",
    "\n",
    "\\begin{array}{ll} \\mbox{minimize} & ||Ax - y||^2_2 + \\gamma ||x||^2_2.\\\\\n",
    "\\end{array}\n",
    "\n",
    "This problem is called ridge regression.\n",
    "\n",
    "The code below defines $n$, $m$, $A$, $x$, and $y$. Use CVXPY to estimate $x$ from $y$ using ridge regression. Try multiple values of $\\gamma$. Use the plotting code to compare the estimated $x$ with the true $x$.\n",
    "\n",
    "A more successful approach is to solve the LASSO problem\n",
    "\n",
    "\\begin{array}{ll} \\mbox{minimize} & ||Ax - y||^2_2 + \\gamma \\|x\\|_1.\\\\\n",
    "\\end{array}\n",
    "\n",
    "\n",
    "How many measurements $m$ are needed to find an accurate $x$ with ridge regression? How about with the LASSO?"
   ]
  },
  {
   "cell_type": "code",
   "execution_count": null,
   "metadata": {},
   "outputs": [],
   "source": [
    "# Ridge regression vs. LASSO to estimate sparse x.\n",
    "import numpy as np\n",
    "import scipy.sparse as sp\n",
    "np.random.seed(1)\n",
    "\n",
    "n = 200\n",
    "m = 100\n",
    "true_x = 100*sp.rand(n, 1, 0.1).todense()\n",
    "A = np.random.randn(m, n)\n",
    "sigma = 1\n",
    "v = np.random.normal(0, sigma, (m, 1))\n",
    "y = A*true_x + v"
   ]
  },
  {
   "cell_type": "code",
   "execution_count": null,
   "metadata": {},
   "outputs": [],
   "source": [
    "import cvxpy as cp\n",
    "\n",
    "# Construct the problem.\n",
    "x = cp.Variable((n, 1))\n",
    "# TODO: your code here"
   ]
  },
  {
   "cell_type": "code",
   "execution_count": null,
   "metadata": {},
   "outputs": [],
   "source": [
    "# Plot estimate of x against true x.\n",
    "import matplotlib.pyplot as plt\n",
    "%matplotlib inline\n",
    "plt.plot(range(n), true_x,  label=\"true x\")\n",
    "plt.plot(range(n), x.value,  label=\"estimated x\")\n",
    "plt.plot(range(n), np.abs(true_x - x.value),  label=\"error\")\n",
    "plt.legend(loc='upper right')\n",
    "plt.show()"
   ]
  }
 ],
 "metadata": {
  "kernelspec": {
   "display_name": "Python 3",
   "language": "python",
   "name": "python3"
  },
  "language_info": {
   "codemirror_mode": {
    "name": "ipython",
    "version": 3
   },
   "file_extension": ".py",
   "mimetype": "text/x-python",
   "name": "python",
   "nbconvert_exporter": "python",
   "pygments_lexer": "ipython3",
   "version": "3.7.0"
  }
 },
 "nbformat": 4,
 "nbformat_minor": 1
}
