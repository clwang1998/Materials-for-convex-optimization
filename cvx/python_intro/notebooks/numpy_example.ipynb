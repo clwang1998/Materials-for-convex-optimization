{
 "cells": [
  {
   "cell_type": "markdown",
   "metadata": {},
   "source": [
    "# NumPy\n",
    "\n",
    "This notebook covers the basics of NumPy, the Python matrix library."
   ]
  },
  {
   "cell_type": "code",
   "execution_count": 1,
   "metadata": {},
   "outputs": [
    {
     "name": "stdout",
     "output_type": "stream",
     "text": [
      "[[0. 0. 0. 0.]\n",
      " [0. 0. 0. 0.]\n",
      " [0. 0. 0. 0.]]\n",
      "(3, 4)\n"
     ]
    }
   ],
   "source": [
    "# NumPy namespace convention: np\n",
    "import numpy as np\n",
    "\n",
    "# Create an all-zero matrix\n",
    "#   NOTE: argument is a tuple '(3, 4)'\n",
    "#     WRONG: np.zeros(3, 4)\n",
    "#     CORRECT: np.zeros( (3, 4) )\n",
    "A = np.zeros((3, 4))\n",
    "\n",
    "\n",
    "print(A)\n",
    "print(A.shape) # dimensions of A"
   ]
  },
  {
   "cell_type": "code",
   "execution_count": 2,
   "metadata": {},
   "outputs": [
    {
     "name": "stdout",
     "output_type": "stream",
     "text": [
      "[[1. 1. 1. 1.]\n",
      " [1. 1. 1. 1.]\n",
      " [1. 1. 1. 1.]]\n",
      "[[1. 0. 0. 0. 0.]\n",
      " [0. 1. 0. 0. 0.]\n",
      " [0. 0. 1. 0. 0.]\n",
      " [0. 0. 0. 1. 0.]\n",
      " [0. 0. 0. 0. 1.]]\n",
      "[[1. 0. 0. 0. 0. 1. 0. 0. 0. 0.]\n",
      " [0. 1. 0. 0. 0. 0. 1. 0. 0. 0.]\n",
      " [0. 0. 1. 0. 0. 0. 0. 1. 0. 0.]\n",
      " [0. 0. 0. 1. 0. 0. 0. 0. 1. 0.]\n",
      " [0. 0. 0. 0. 1. 0. 0. 0. 0. 1.]]\n"
     ]
    }
   ],
   "source": [
    "# All-one matrix\n",
    "B = np.ones((3, 4))\n",
    "print(B)\n",
    "\n",
    "# Identity matrix\n",
    "I = np.eye(5)\n",
    "print(I)\n",
    "\n",
    "# Stacking matrices horizontally\n",
    "#   Use vstack to stack vertically\n",
    "J = np.hstack((I, I))\n",
    "print(J)"
   ]
  },
  {
   "cell_type": "code",
   "execution_count": 3,
   "metadata": {},
   "outputs": [
    {
     "name": "stdout",
     "output_type": "stream",
     "text": [
      "[[ 0.77187803  0.05866353  0.732986    1.28051827]\n",
      " [ 0.05458787  2.35362341  1.59424405  0.02087681]\n",
      " [-0.94980424  1.69136363 -0.24743826  1.2047837 ]\n",
      " [ 0.46060446 -1.43059302  0.29493743  1.148354  ]]\n",
      "[ 0.05866353  2.35362341  1.69136363 -1.43059302]\n",
      "1.2047836986432774\n"
     ]
    }
   ],
   "source": [
    "# Random matrix with standard Gaussian entries\n",
    "#   NOTE: argument is NOT a tuple\n",
    "Q = np.random.randn(4, 4)\n",
    "\n",
    "print(Q)\n",
    "print(Q[:, 1]) # Second column (everything is 0-indexed)\n",
    "print(Q[2, 3]) # (3, 4) entry (as a real number)"
   ]
  },
  {
   "cell_type": "code",
   "execution_count": 4,
   "metadata": {},
   "outputs": [
    {
     "name": "stdout",
     "output_type": "stream",
     "text": [
      "[[4.02770511]]\n",
      "4.027705110220202\n"
     ]
    }
   ],
   "source": [
    "# Random column vector of length 4\n",
    "v = np.random.randn(4, 1)\n",
    "\n",
    "# v.T: v tranpose\n",
    "# @: matrix multiplication\n",
    "z = v.T @ Q @ v\n",
    "\n",
    "# The result is a 1-by-1 matrix\n",
    "print(z)\n",
    "\n",
    "# Extract the result as a real number\n",
    "print(z[0, 0])"
   ]
  },
  {
   "cell_type": "code",
   "execution_count": 5,
   "metadata": {},
   "outputs": [
    {
     "name": "stdout",
     "output_type": "stream",
     "text": [
      "[[1 3]\n",
      " [2 4]]\n",
      "[[-1.   6.4]\n",
      " [15.  32. ]]\n",
      "[4 6]\n",
      "[3 7]\n"
     ]
    }
   ],
   "source": [
    "# Other useful methods\n",
    "#   Construct a matrix\n",
    "A = np.array([[1, 2], [3, 4]])\n",
    "B = np.array([[-1, 3.2], [5, 8]])\n",
    "#   Transpose a matrix\n",
    "print(A.T)\n",
    "#   Elementwise multiplication\n",
    "print(np.multiply(A, B))\n",
    "#   Sum of each column (as a row vector)\n",
    "print(np.sum(A, axis=0))\n",
    "#   Sum of each row (as a column vector)\n",
    "print(np.sum(A, axis=1))"
   ]
  },
  {
   "cell_type": "code",
   "execution_count": 6,
   "metadata": {},
   "outputs": [
    {
     "name": "stdout",
     "output_type": "stream",
     "text": [
      "d =  [ 0.13393125 29.86606875]\n",
      "V =  [[-0.81741556 -0.57604844]\n",
      " [ 0.57604844 -0.81741556]]\n",
      "||v||_2 =  2.23606797749979\n",
      "Q^{-1}v =  [-2.   1.5]\n"
     ]
    }
   ],
   "source": [
    "# Linear algebra routines\n",
    "Q = A.T @ A\n",
    "(d, V) = np.linalg.eig(Q) # Eigen decomposition\n",
    "print(\"d = \", d)\n",
    "print(\"V = \", V)\n",
    "\n",
    "v = np.array([1, 2])\n",
    "print(\"||v||_2 = \", np.linalg.norm(v)) # 2-norm of a vector\n",
    "\n",
    "Qinv = np.linalg.inv(Q) # Matrix inverse\n",
    "# Solves Qx = v (faster than Qinv*v)\n",
    "x = np.linalg.solve(Q, v)\n",
    "print(\"Q^{-1}v = \", x)"
   ]
  }
 ],
 "metadata": {
  "kernelspec": {
   "display_name": "Python 3",
   "language": "python",
   "name": "python3"
  },
  "language_info": {
   "codemirror_mode": {
    "name": "ipython",
    "version": 3
   },
   "file_extension": ".py",
   "mimetype": "text/x-python",
   "name": "python",
   "nbconvert_exporter": "python",
   "pygments_lexer": "ipython3",
   "version": "3.7.0"
  }
 },
 "nbformat": 4,
 "nbformat_minor": 1
}
